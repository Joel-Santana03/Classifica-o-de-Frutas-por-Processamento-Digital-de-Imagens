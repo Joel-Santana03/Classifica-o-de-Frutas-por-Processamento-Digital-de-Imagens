{
 "cells": [
  {
   "cell_type": "code",
   "execution_count": null,
   "id": "15f5f30e-95a1-4294-ae6b-ed63b2f161bb",
   "metadata": {},
   "outputs": [],
   "source": []
  }
 ],
 "metadata": {
  "kernelspec": {
   "display_name": "Python 3 (ipykernel)",
   "language": "python",
   "name": "python3"
  },
  "language_info": {
   "codemirror_mode": {
    "name": "ipython",
    "version": 3
   },
   "file_extension": ".py",
   "mimetype": "text/x-python",
   "name": "python",
   "nbconvert_exporter": "python",
   "pygments_lexer": "ipython3",
   "version": "3.13.1"
  }
 },
 "nbformat": 4,
 "nbformat_minor": 5
}
